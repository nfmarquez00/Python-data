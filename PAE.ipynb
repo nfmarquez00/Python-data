{
  "nbformat": 4,
  "nbformat_minor": 0,
  "metadata": {
    "colab": {
      "name": "PAE.ipynb",
      "provenance": [],
      "authorship_tag": "ABX9TyPIqv8clYUB6nfHTn2RtU6/",
      "include_colab_link": true
    },
    "kernelspec": {
      "name": "python3",
      "display_name": "Python 3"
    },
    "language_info": {
      "name": "python"
    }
  },
  "cells": [
    {
      "cell_type": "markdown",
      "metadata": {
        "id": "view-in-github",
        "colab_type": "text"
      },
      "source": [
        "<a href=\"https://colab.research.google.com/github/nfmarquez00/Python-data/blob/master/PAE.ipynb\" target=\"_parent\"><img src=\"https://colab.research.google.com/assets/colab-badge.svg\" alt=\"Open In Colab\"/></a>"
      ]
    },
    {
      "cell_type": "markdown",
      "metadata": {
        "id": "ofKIa_KpOzUQ"
      },
      "source": [
        ""
      ]
    },
    {
      "cell_type": "markdown",
      "metadata": {
        "id": "L4pLYxpSO2P_"
      },
      "source": [
        "**Importação de bibliotecas**"
      ]
    },
    {
      "cell_type": "code",
      "metadata": {
        "id": "MAF4kd0nO5yy"
      },
      "source": [
        "import pandas as pd\n",
        "import numpy as np\n",
        "import time\n",
        "import math\n",
        "import openpyxl as xl\n",
        "import matplotlib.pyplot as plt\n",
        "import os"
      ],
      "execution_count": 1,
      "outputs": []
    },
    {
      "cell_type": "markdown",
      "metadata": {
        "id": "dYh7gQ3HPSaf"
      },
      "source": [
        "**Criação de dicionário de instalações**"
      ]
    },
    {
      "cell_type": "code",
      "metadata": {
        "id": "Qvyt2fuJPUyU"
      },
      "source": [
        "parques = {'RB':'Bilbao-Refinery','EZ':'ES90-Barcelona Decal-Depot','CE':'Cepsa-Fictional', 33: 'Sines-Refinery', 44: 'Matosinhos-Refinery', 'EA': 'ES10-Albuixech-CLH depot',\\\n",
        "           'Ea':'ES79-Rivabellosa-CLH depot','EB': 'ES31-Alcazar-CLH depot', 'Eb': 'Rota-CLH depot', 'EC': 'ES09-Alicante-CLH depot', 'Ec': 'ES36-Salamanca-CLH depot', 'ED': 'ES12-Barcelona-CLH depot', 'Ed': 'ES85-San Roque-CLH depot',\\\n",
        "           'Ee': 'ES30-Santovenia-CLH depot', 'Ef': 'ES28-Sevilla-CLH depot', 'EG': 'ES75-Bilbao-CLH depot', 'Eg': 'ES35-Tarragona-CLH depot', 'EH': 'ES89-Burgos-CLH depot', 'Eh': 'ES37-Torrejon-CLH depot',\\\n",
        "           'EI': 'ES16-Cartagena-CLH depot', 'Ei': 'ES40-Vigo-CLH depot', 'EJ': 'ES15-Castellon-CLH depot', 'Ej': 'ES33-Villaverde-CLH depot', 'EK': 'ES14-Cordoba-CLH depot', 'Ek': 'ES42-Zaragoza-CLH depot',\\\n",
        "           'EL': 'ES32-Coruna-CLH depot', 'El': 'ESA7-Mahon-CLH depot', 'EM': 'ES86-Gijon-CLH depot', 'En': 'ES18-Ibiza-CLH depot', 'EO': 'ES98-Girona-CLH depot', 'Eo': 'ES25-Son Banya-CLH depot',\\\n",
        "           'EP': 'ES27-Huelva-CLH depot', 'ES': 'ES20-Leon-CLH depot', 'ET': 'ES88-Lerida-CLH depot', 'EV': 'ES22-Malaga-CLH depot', 'EW': 'ES21-Merida-CLH depot', 'EX': 'ES23-Motril-CLH depot',\\\n",
        "           'EY': 'ES87-Navarra-CLH depot', 'EE': 'ES90-Barcelona Decal CT-Depot', 'EF': 'ES39-Barcelona Meroil-Depot', 'EN': 'ES19-Gijon-Depot', 'EQ': 'ES91-Huelva Decal-Depot', 'JJ': 'ES41-Valencia-Depot',\\\n",
        "           'td': 'ESC5-Esergui-Depot', 'TL': 'Valencia-Ship terminal', 'RE': 'Coruna-Refinery', 'RF': 'Huelva-Refinery', 'RC': 'Cartagena-Refinery', 'RH': 'Tarragona-Refinery', 'RA': 'Algeciras-Refinery',\\\n",
        "           'RD': 'Castellon-Refinery', 'oo': 'Gijon-Ship terminal', 'SA': 'ES10-Albuixech-CLH depot sales','SB': 'ES31-Alcazar-CLH depot sales', 'EM': 'ES86-Gijon-CLH depot', 'ET': 'ES88-Lerida-CLH depot',\\\n",
        "           'SC': 'ES09-Alicante-CLH depot sales', 'SD': 'ES12-Barcelona-CLH depot sales', 'SZ': 'ES90-Barcelona Decal CT-Depot sales','SG': 'ES75-Bilbao-CLH depot sales', 'SH': 'ES89-Burgos-CLH depot sales', 'SI': 'ES16-Cartagena-CLH depot sales',\\\n",
        "           'SJ': 'ES15-Castellon-CLH depot sales', 'SF': 'ES41-Valencia-Depot sales', 'SK': 'ES14-Cordoba-CLH depot sales', 'SL': 'ES32-Coruna-CLH depot sales', 'SM': 'ES86-Gijon-CLH depot sales',\\\n",
        "           'SE': 'ES19-Gijon-Depot sales', 'SP': 'ES27-Huelva-CLH depot sales', 'SQ': 'ES91-Huelva Decal-Depot sales', 'SS': 'ES20-Leon-CLH depot sales', 'St': 'ESC5-Esergui-Depot sales',\\\n",
        "           'Sv': 'ES39-Barcelona Meroil-Depot sales', 'SW': 'ES21-Merida-CLH depot sales', 'SX': 'ES23-Motril-CLH depot sales', 'SY': 'ES87-Navarra-CLH depot sales', 'Sn': 'ES18-Ibiza-CLH depot sales',\\\n",
        "           'SO': 'ES98-Girona-CLH depot sales', 'Eo': 'ES25-Son Banya-CLH depot', 'So': 'ES25-Son Banya-CLH depot sales', 'ST': 'ES88-Lerida-CLH depot sales', 'SV': 'ES22-Malaga-CLH depot sales',\\\n",
        "           'Sa': 'ES79-Rivabellosa-CLH depot sales', 'Sc': 'ES36-Salamanca-CLH depot sales', 'Sd': 'ES85-San Roque-CLH depot sales', 'Se': 'ES30-Santovenia-CLH depot sales', 'Sf': 'ES28-Sevilla-CLH depot sales',\\\n",
        "           'Sg': 'ES35-Tarragona-CLH depot sales', 'Sh': 'ES37-Torrejon-CLH depot sales', 'Si': 'ES40-Vigo-CLH depot sales', 'Sj': 'ES33-Villaverde-CLH depot sales', 'Sk': 'ES42-Zaragoza-CLH depot sales', \\\n",
        "           'SI': 'ES16-Cartagena-CLH depot sales', 'RG': 'Puertollano-Refinery', 'Ed': 'ES85-San Roque-CLH depot'}"
      ],
      "execution_count": 2,
      "outputs": []
    },
    {
      "cell_type": "markdown",
      "metadata": {
        "id": "YWnduFaL0b6u"
      },
      "source": [
        "\n",
        "\n",
        "> Instalações para avaliação de movimentos\n",
        "\n"
      ]
    },
    {
      "cell_type": "code",
      "metadata": {
        "id": "Cngra9JM0jdV"
      },
      "source": [
        "instalações = {'EE': 'ES90-Barcelona Decal CT-Depot','EA': 'ES10-Albuixech-CLH depot','Ea':'ES79-Rivabellosa-CLH depot','EB': 'ES31-Alcazar-CLH depot', 'EC': 'ES09-Alicante-CLH depot', 'Ec': 'ES36-Salamanca-CLH depot', 'ED': 'ES12-Barcelona-CLH depot', 'Ed': 'ES85-San Roque-CLH depot',\\\n",
        "           'Ee': 'ES30-Santovenia-CLH depot', 'Ef': 'ES28-Sevilla-CLH depot', 'EG': 'ES75-Bilbao-CLH depot', 'Eg': 'ES35-Tarragona-CLH depot', 'EH': 'ES89-Burgos-CLH depot', 'Eh': 'ES37-Torrejon-CLH depot',\\\n",
        "           'EI': 'ES16-Cartagena-CLH depot', 'Ei': 'ES40-Vigo-CLH depot', 'EJ': 'ES15-Castellon-CLH depot', 'Ej': 'ES33-Villaverde-CLH depot', 'EK': 'ES14-Cordoba-CLH depot', 'Ek': 'ES42-Zaragoza-CLH depot',\\\n",
        "           'EL': 'ES32-Coruna-CLH depot', 'El': 'ESA7-Mahon-CLH depot', 'EM': 'ES86-Gijon-CLH depot', 'En': 'ES18-Ibiza-CLH depot', 'EO': 'ES98-Girona-CLH depot', 'Eo': 'ES25-Son Banya-CLH depot',\\\n",
        "           'EP': 'ES27-Huelva-CLH depot', 'ES': 'ES20-Leon-CLH depot', 'ET': 'ES88-Lerida-CLH depot', 'EV': 'ES22-Malaga-CLH depot', 'EW': 'ES21-Merida-CLH depot', 'EX': 'ES23-Motril-CLH depot',\\\n",
        "           'EY': 'ES87-Navarra-CLH depot', 'EF': 'ES39-Barcelona Meroil-Depot', 'EN': 'ES19-Gijon-Depot', 'EQ': 'ES91-Huelva Decal-Depot', 'JJ': 'ES41-Valencia-Depot',\\\n",
        "           'td': 'ESC5-Esergui-Depot', 'EM': 'ES86-Gijon-CLH depot', 'ET': 'ES88-Lerida-CLH depot', 'Eo': 'ES25-Son Banya-CLH depot', 'Ed': 'ES85-San Roque-CLH depot'}"
      ],
      "execution_count": 3,
      "outputs": []
    },
    {
      "cell_type": "code",
      "metadata": {
        "id": "HPByBgF52bU2"
      },
      "source": [
        "#Conversão de dicionário de instalações para DataFrame\n",
        "inst = pd.DataFrame(instalações.items(), columns=['Código', 'Unloading code'])\n",
        "inst"
      ],
      "execution_count": null,
      "outputs": []
    },
    {
      "cell_type": "markdown",
      "metadata": {
        "id": "r7vup30_PcQ3"
      },
      "source": [
        "**Importação de dados do relatório PAE**"
      ]
    },
    {
      "cell_type": "code",
      "metadata": {
        "colab": {
          "base_uri": "https://localhost:8080/"
        },
        "id": "YyPt-2dSl-Dy",
        "outputId": "6012c1ef-e465-4ded-c82a-add8b7251fc2"
      },
      "source": [
        "print(\"Current Working Directory \", os.getcwd())"
      ],
      "execution_count": 5,
      "outputs": [
        {
          "output_type": "stream",
          "name": "stdout",
          "text": [
            "Current Working Directory  /content\n"
          ]
        }
      ]
    },
    {
      "cell_type": "code",
      "metadata": {
        "id": "L7_53Vn5XC4n"
      },
      "source": [
        "# Para uso na exportação dos dados de comparação de relatórios para ficheiro Excel\n",
        "output_path = os.getcwd()"
      ],
      "execution_count": 6,
      "outputs": []
    },
    {
      "cell_type": "markdown",
      "metadata": {
        "id": "0atzONphWttg"
      },
      "source": [
        "**Por favor, insira o nome para o relatório**"
      ]
    },
    {
      "cell_type": "code",
      "metadata": {
        "id": "FEL2LTosWyc3"
      },
      "source": [
        "# Nome do relatório comparativo final - a ser usado pelo PowerBI\n",
        "report_name = 'PAE0821_RevG2_Rep vs PAE0821_RevG2.xlsx'"
      ],
      "execution_count": 7,
      "outputs": []
    },
    {
      "cell_type": "markdown",
      "metadata": {
        "id": "kI9kair-U7ya"
      },
      "source": [
        "**Importação dos relatórios**"
      ]
    },
    {
      "cell_type": "code",
      "metadata": {
        "colab": {
          "resources": {
            "http://localhost:8080/nbextensions/google.colab/files.js": {
              "data": "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",
              "ok": true,
              "headers": [
                [
                  "content-type",
                  "application/javascript"
                ]
              ],
              "status": 200,
              "status_text": ""
            }
          },
          "base_uri": "https://localhost:8080/",
          "height": 127
        },
        "id": "aK9gbtxwUmw7",
        "outputId": "9e3e916b-8460-4f30-90aa-28451a50db96"
      },
      "source": [
        "from google.colab import files   # Estas importações copiam os ficheiros para a pasta de trabalho do Colab\n",
        "uploadedR1 = files.upload()\n",
        "uploadedR2 = files.upload()"
      ],
      "execution_count": 8,
      "outputs": [
        {
          "output_type": "display_data",
          "data": {
            "text/html": [
              "\n",
              "     <input type=\"file\" id=\"files-12135dbe-61b7-4f22-8d31-7bb5f821d2fd\" name=\"files[]\" multiple disabled\n",
              "        style=\"border:none\" />\n",
              "     <output id=\"result-12135dbe-61b7-4f22-8d31-7bb5f821d2fd\">\n",
              "      Upload widget is only available when the cell has been executed in the\n",
              "      current browser session. Please rerun this cell to enable.\n",
              "      </output>\n",
              "      <script src=\"/nbextensions/google.colab/files.js\"></script> "
            ],
            "text/plain": [
              "<IPython.core.display.HTML object>"
            ]
          },
          "metadata": {}
        },
        {
          "output_type": "stream",
          "name": "stdout",
          "text": [
            "Saving Case0821_RevG2.xlsm to Case0821_RevG2.xlsm\n"
          ]
        },
        {
          "output_type": "display_data",
          "data": {
            "text/html": [
              "\n",
              "     <input type=\"file\" id=\"files-6a691ae6-ef2b-49cd-b9fc-66439af17a2c\" name=\"files[]\" multiple disabled\n",
              "        style=\"border:none\" />\n",
              "     <output id=\"result-6a691ae6-ef2b-49cd-b9fc-66439af17a2c\">\n",
              "      Upload widget is only available when the cell has been executed in the\n",
              "      current browser session. Please rerun this cell to enable.\n",
              "      </output>\n",
              "      <script src=\"/nbextensions/google.colab/files.js\"></script> "
            ],
            "text/plain": [
              "<IPython.core.display.HTML object>"
            ]
          },
          "metadata": {}
        },
        {
          "output_type": "stream",
          "name": "stdout",
          "text": [
            "Saving Case0821_RevG2_Rep.xlsm to Case0821_RevG2_Rep.xlsm\n"
          ]
        }
      ]
    },
    {
      "cell_type": "markdown",
      "metadata": {
        "id": "o2BcsM-fqp0O"
      },
      "source": [
        "**Listagem dos ficheiros Excel a analisar**"
      ]
    },
    {
      "cell_type": "code",
      "metadata": {
        "colab": {
          "base_uri": "https://localhost:8080/"
        },
        "id": "fBUrotGmqUWF",
        "outputId": "c5d8bdf8-e0e1-4450-a512-9e75bf004b7c"
      },
      "source": [
        "path = os.getcwd()\n",
        "files = os.listdir(path)\n",
        "files"
      ],
      "execution_count": 9,
      "outputs": [
        {
          "output_type": "execute_result",
          "data": {
            "text/plain": [
              "['.config', 'Case0821_RevG2_Rep.xlsm', 'Case0821_RevG2.xlsm', 'sample_data']"
            ]
          },
          "metadata": {},
          "execution_count": 9
        }
      ]
    },
    {
      "cell_type": "markdown",
      "metadata": {
        "id": "ag9FfqPXq1jc"
      },
      "source": [
        "**Pick out Excel files**"
      ]
    },
    {
      "cell_type": "code",
      "metadata": {
        "colab": {
          "base_uri": "https://localhost:8080/"
        },
        "id": "neD36bE3q0Ql",
        "outputId": "7fe09f78-e163-42aa-a512-b93587b1a165"
      },
      "source": [
        "# Usa-se 'sorted' para garantir lista ordenada\n",
        "files_xls = [f for f in sorted(files) if f[-4:] == 'xlsm']\n",
        "files_xls"
      ],
      "execution_count": 10,
      "outputs": [
        {
          "output_type": "execute_result",
          "data": {
            "text/plain": [
              "['Case0821_RevG2.xlsm', 'Case0821_RevG2_Rep.xlsm']"
            ]
          },
          "metadata": {},
          "execution_count": 10
        }
      ]
    },
    {
      "cell_type": "markdown",
      "metadata": {
        "id": "9LPTkcONWe0v"
      },
      "source": [
        "**Criação de um dataframe por folha de R1**"
      ]
    },
    {
      "cell_type": "code",
      "metadata": {
        "id": "1RAnt98LU2_x"
      },
      "source": [
        "economicosR1 = pd.read_excel(files_xls[0],'Económicos')\n",
        "comprasR1 = pd.read_excel(files_xls[0],'Compras')\n",
        "incorporaçõesR1 = pd.read_excel(files_xls[0],'Incorporações')\n",
        "tepsR1 = pd.read_excel(files_xls[0],'TEPS')\n",
        "movimentosR1 = pd.read_excel(files_xls[0],'Movimentos')"
      ],
      "execution_count": 11,
      "outputs": []
    },
    {
      "cell_type": "code",
      "metadata": {
        "id": "VbXDW8_afP4-"
      },
      "source": [
        "#Verificação dos movimentos para Barcelona Decal - a apagar quando estiver tudo certo\n",
        "movimentosR1.loc[movimentosR1['Unloading code'] == 'EE']"
      ],
      "execution_count": null,
      "outputs": []
    },
    {
      "cell_type": "markdown",
      "metadata": {
        "id": "KcbZPr6WZVYc"
      },
      "source": [
        "**Criação de um dataframe por folha de R2**"
      ]
    },
    {
      "cell_type": "code",
      "metadata": {
        "id": "xOq13oobZZlF"
      },
      "source": [
        "economicosR2 = pd.read_excel(files_xls[1], 'Económicos')\n",
        "comprasR2 = pd.read_excel(files_xls[1],'Compras')\n",
        "incorporaçõesR2 = pd.read_excel(files_xls[1],'Incorporações')\n",
        "tepsR2 = pd.read_excel(files_xls[1],'TEPS')\n",
        "movimentosR2 = pd.read_excel(files_xls[1],'Movimentos')"
      ],
      "execution_count": 13,
      "outputs": []
    },
    {
      "cell_type": "markdown",
      "metadata": {
        "id": "xDE7lmE4lY52"
      },
      "source": [
        "**Cria dicionários para criar coluna com nome de operador nas tabelas das compras**"
      ]
    },
    {
      "cell_type": "code",
      "metadata": {
        "id": "sxwOYHnwlfMA"
      },
      "source": [
        "# Dicionário Galp (bios)\n",
        "# Lista de locais onde se compram bios\n",
        "loc_bios = ['RB', 'JJ', 'EE', 'td', 'EN']\n",
        "\n",
        "\n",
        "# Lista de códigos de produto bios\n",
        "prod_bios = ['F00', 'F10', 'FDa', 'HSc', 'HDc', 'HAv', 'F0t', 'F1t', 'FDt', 'FRt', 'ETg']\n",
        "\n",
        "\n",
        "# product() emparelha os elementos que serão a chave do dicionário\n",
        "Galp_bios = []\n",
        "for i in range(len(loc_bios)):\n",
        "  for j in range(len(prod_bios)):\n",
        "    t = (loc_bios[i], prod_bios[j])\n",
        "    Galp_bios.append(t)\n",
        "  j=j+1\n",
        "i=i+1\n",
        "Galp_bios\n",
        "\n",
        "\n",
        "# Constrói o dicionário\n",
        "Galp_bios_dic_value = ['Galp (bios)']*len(Galp_bios)   # Primeiro constrói uma lista com o valor para cada chave\n",
        "Galp_bios_dic = dict(zip(Galp_bios, Galp_bios_dic_value))    # Constrói o dicionário a partir das listas com as chaves e com o valor\n",
        "Galp_bios_dic"
      ],
      "execution_count": null,
      "outputs": []
    },
    {
      "cell_type": "code",
      "metadata": {
        "id": "xVFxHb39uev0"
      },
      "source": [
        "# Dicionário para Cepsa\n",
        "Cepsa_loc = ['CE', 'RA', 'RF', 'EQ']  # Locais\n",
        "Cepsa_prod = ['MDm', 'MDo', 'M5m', 'M5o', 'M8o', 'M8m', 'DBs', 'DCs']  # Produtos\n",
        "\n",
        "\n",
        "#Emparelhamento de locais com produtos\n",
        "Cepsa = []\n",
        "for i in range(len(Cepsa_loc)):\n",
        "  for j in range(len(Cepsa_prod)):\n",
        "    c = (Cepsa_loc[i], Cepsa_prod[j])\n",
        "    Cepsa.append(c)\n",
        "  j=j+1\n",
        "i=i+1\n",
        "Cepsa\n",
        "\n",
        "\n",
        "# Constrói o dicionário Cepsa\n",
        "Cepsa_dic_value = ['Cepsa']*len(Cepsa)  # Lista com valor do tamanho da lista da chave\n",
        "Cepsa_dic = dict(zip(Cepsa, Cepsa_dic_value))   # Constrói o dicionário Cepsa\n",
        "Cepsa_dic"
      ],
      "execution_count": null,
      "outputs": []
    },
    {
      "cell_type": "code",
      "metadata": {
        "id": "BaVoFXBoySHR"
      },
      "source": [
        "# Dicionário da BP\n",
        "BP_loc = ['RD']\n",
        "BP_prod = ['MDo','MDm', 'M5o', 'M5m', 'M8o', 'M8m', 'DBs', 'DCs']\n",
        "\n",
        "#Emparelhamento de locais com os produtos\n",
        "BP = []\n",
        "for i in range(len(BP_loc)):\n",
        "  for j in range(len(BP_prod)):\n",
        "    b = (BP_loc[i], BP_prod[j])\n",
        "    BP.append(b)\n",
        "  j=j+1\n",
        "i=i+1\n",
        "BP\n",
        "\n",
        "\n",
        "# Constrói dicionário da BP\n",
        "BP_dic_value = ['BP']*len(BP)   # Lista com tamanho da lista da chave\n",
        "BP_dic = dict(zip(BP, BP_dic_value))\n",
        "BP_dic"
      ],
      "execution_count": null,
      "outputs": []
    },
    {
      "cell_type": "code",
      "metadata": {
        "id": "7UBWdtXwz-Pc"
      },
      "source": [
        "# Dicionário da Esergui\n",
        "Ese_loc = ['td']\n",
        "Ese_prod = ['MDo','M5o', 'M8o']\n",
        "\n",
        "#Emparelhamento de locais com os produtos\n",
        "Ese = []\n",
        "for i in range(len(Ese_loc)):\n",
        "  for j in range(len(Ese_prod)):\n",
        "    e = (Ese_loc[i], Ese_prod[j])\n",
        "    Ese.append(e)\n",
        "  j=j+1\n",
        "i=i+1\n",
        "Ese\n",
        "\n",
        "\n",
        "# Constrói dicionário da Esergui\n",
        "Ese_dic_value = ['Esergui']*len(Ese)   # Lista com tamanho da lista da chave\n",
        "Ese_dic = dict(zip(Ese, Ese_dic_value))\n",
        "Ese_dic"
      ],
      "execution_count": null,
      "outputs": []
    },
    {
      "cell_type": "code",
      "metadata": {
        "id": "PiLGqOnv1hrI"
      },
      "source": [
        "# Dicionário Galp (produto mineral)\n",
        "Galp_min_loc = [44, 33, 'TL', 'oo']\n",
        "Galp_min_prod = ['DCr', 'MDg', 'M8g', 'M5g', 'SBm', 'MDi', 'EBb', 'M8o']\n",
        "\n",
        "\n",
        "#Emparelhamento de locais com os produtos\n",
        "Galp_min = []\n",
        "for i in range(len(Galp_min_loc)):\n",
        "  for j in range(len(Galp_min_prod)):\n",
        "    g = (Galp_min_loc[i], Galp_min_prod[j])\n",
        "    Galp_min.append(g)\n",
        "  j=j+1\n",
        "i=i+1\n",
        "Galp_min\n",
        "\n",
        "# Constrói dicionário da Galp (produto mineral)\n",
        "Galp_min_dic_value = ['Galp (produto mineral)']*len(Galp_min)   # Lista com tamanho da lista da chave\n",
        "Galp_min_dic = dict(zip(Galp_min, Galp_min_dic_value))\n",
        "Galp_min_dic"
      ],
      "execution_count": null,
      "outputs": []
    },
    {
      "cell_type": "code",
      "metadata": {
        "id": "oua8qb4B4b_7"
      },
      "source": [
        "# Dicionário da Repsol\n",
        "Rep_loc = ['EB', 'EC', 'EZ', 'RB', 'RC', 'EI', 'EK', 'RE', 'EP', 'EV', 'EW', 'EX', 'RG', 'Ed', 'Ef', 'Eo', 'RH', 'Eh', 'Ej']\n",
        "Rep_prod = ['MDo', 'MDi', 'M5o', 'M8o', 'DBs', 'DCs']\n",
        "\n",
        "#Emparelhamento de locais com os produtos\n",
        "Rep = []\n",
        "for i in range(len(Rep_loc)):\n",
        "  for j in range(len(Rep_prod)):\n",
        "    r = (Rep_loc[i], Rep_prod[j])\n",
        "    Rep.append(r)\n",
        "  j=j+1\n",
        "i=i+1\n",
        "Rep\n",
        "\n",
        "\n",
        "#Constrói dicionário da Repsol\n",
        "Rep_dic_value = ['Repsol']*len(Rep)   # Lista com tamanho da lista da chave\n",
        "Rep_dic = dict(zip(Rep, Rep_dic_value))\n",
        "Rep_dic"
      ],
      "execution_count": null,
      "outputs": []
    },
    {
      "cell_type": "code",
      "metadata": {
        "id": "YCBdFs6ky-MM"
      },
      "source": [
        "# Dicionário de Stocks\n",
        "Stock_loc = list(parques.keys())      #Na dúvida, obtém todos os locais, uma vez que o determinante são os produtos\n",
        "Stock_prod = ['MDt', 'DBt', 'DCt', 'G5t', 'G8t']\n",
        "\n",
        "\n",
        "#Emparelhamento de locais com os produtos\n",
        "Stck = []\n",
        "for i in range(len(Stock_loc)):\n",
        "  for j in range(len(Stock_prod)):\n",
        "    s = (Stock_loc[i], Stock_prod[j])\n",
        "    Stck.append(s)\n",
        "  j=j+1\n",
        "i=i+1\n",
        "Stck\n",
        "\n",
        "\n",
        "#Construção do dicionário de Stocks\n",
        "Stocks_dic_value = ['Stocks']*len(Stck)    #Lista com a dimensão da chave\n",
        "Stocks_dic = dict(zip(Stck, Stocks_dic_value))\n",
        "Stocks_dic"
      ],
      "execution_count": null,
      "outputs": []
    },
    {
      "cell_type": "markdown",
      "metadata": {
        "id": "z-Dvyty7W4QA"
      },
      "source": [
        "**Cria dicionários para construir tabela de compras por local**"
      ]
    },
    {
      "cell_type": "code",
      "metadata": {
        "id": "_F6VbErkW-qy"
      },
      "source": [
        "# Dicionário dos locais\n",
        "comp_loc = {'RA': 'Algeciras', 'RB': 'Bilbao', 'RD': 'Castellon', 'RC': 'Cartagena', 'RE': 'Coruna', 'RF': 'Huelva', 'RG': 'Puertollano', 'RH': 'Tarragona', 33: 'Portugal',\\\n",
        "            44: 'Portugal', 'EQ': 'Huelva Decal', 'td': 'Esergui', 'EE': 'Barcelona Decal', 'EN': 'Gijon', 'oo': 'Gijon', 'JJ': 'Valencia', 'TL': 'Valencia', 'EB': 'Alcazar CLH',\\\n",
        "            'EC': 'Alicante CLH', 'EZ': 'Barcelona Decal', 'EI': 'Cartagena CLH', 'EK': 'Cordoba CLH', 'EP': 'Huelva CLH', 'EV': 'Malaga CLH', 'EW': 'Merida CLH',\\\n",
        "            'EX': 'Motril CLH', 'Ed': 'San Roque CLH', 'Ef': 'Sevilla CLH', 'Eo': 'Son Banya CLH', 'Eh': 'Torrejon CLH', 'Ej': 'Villaverde CLH'}"
      ],
      "execution_count": 21,
      "outputs": []
    },
    {
      "cell_type": "code",
      "metadata": {
        "id": "-OKscjYocLyj"
      },
      "source": [
        "#Dicionário da família de produtos\n",
        "fam_prod = {'MDi': 'Gasóleos', 'MDg': 'Gasóleos', 'MDo': 'Gasóleos', 'MDm': 'Gasóleos', 'DCr': 'Gasóleos', 'DBs': 'Gasóleos', 'DCs': 'Gasóleos',\\\n",
        "            'M5o': 'Gasolinas', 'M5m': 'Gasolinas', 'M5g': 'Gasolinas', 'M8o': 'Gasolinas', 'M8m': 'Gasolinas', 'M8g': 'Gasolinas', 'SBm': 'Gasolinas', 'EBb': 'Gasolinas',\\\n",
        "            'ETg': 'Etanol', 'F0t': 'FAME Stock', 'F1t': 'FAME Stock', 'FDt': 'FAME Stock', 'FRt': 'FAME Stock', 'F00': 'FAME SC', 'F10': 'FAME DC', 'FDa': 'FAME DC - parte A',\\\n",
        "            'HSc': 'HVO SC', 'HDc': 'HVO DC', 'HAv': 'HVO Advanced Bio'}"
      ],
      "execution_count": 22,
      "outputs": []
    },
    {
      "cell_type": "markdown",
      "metadata": {
        "id": "EFkCQDIL7w2Y"
      },
      "source": [
        "**Faz o merge dos diversos dicionários**"
      ]
    },
    {
      "cell_type": "markdown",
      "metadata": {
        "id": "ucm_ay7u74_h"
      },
      "source": [
        "\n",
        "\n",
        ">Define uma função para fazer o merge de dicionários\n",
        "\n"
      ]
    },
    {
      "cell_type": "code",
      "metadata": {
        "id": "5uN-2X8Z8CWN"
      },
      "source": [
        "def merge_dicts(r,s,t,w,x,y,z):\n",
        "  \"\"\"Given up to seven dictionaries, merge them into a new dictionary as a shallow copy\"\"\"\n",
        "  k = r.copy()\n",
        "  k.update(s)\n",
        "  k.update(t)\n",
        "  k.update(w)\n",
        "  k.update(x)\n",
        "  k.update(y)\n",
        "  k.update(z)\n",
        "  return k\n"
      ],
      "execution_count": 23,
      "outputs": []
    },
    {
      "cell_type": "code",
      "metadata": {
        "id": "MYfTW1Y5-TFU"
      },
      "source": [
        "# Faz o merge dos dicionários dos diferentes operadores\n",
        "\n",
        "oper_dict = merge_dicts(Galp_bios_dic, Cepsa_dic, BP_dic, Ese_dic, Galp_min_dic,Rep_dic, Stocks_dic)\n",
        "oper_dict"
      ],
      "execution_count": null,
      "outputs": []
    },
    {
      "cell_type": "markdown",
      "metadata": {
        "id": "B98LidEPtsHy"
      },
      "source": [
        "**Descodificação de instalações em info de compras**"
      ]
    },
    {
      "cell_type": "markdown",
      "metadata": {
        "id": "CgtiJd9EuzJb"
      },
      "source": [
        "Criação de dataframe a partir do dicionário de instalações"
      ]
    },
    {
      "cell_type": "code",
      "metadata": {
        "id": "mSLcUtANtxDA"
      },
      "source": [
        "#parks_dic = pd.DataFrame(list(parques.items()), columns = ['Code', 'Facility'])\n",
        "#parks_dic"
      ],
      "execution_count": null,
      "outputs": []
    },
    {
      "cell_type": "code",
      "metadata": {
        "id": "dAUC9McduVE_"
      },
      "source": [
        "#comprasR1a = comprasR1.replace({\"Código local\":parques})\n",
        "#comprasR1a"
      ],
      "execution_count": null,
      "outputs": []
    },
    {
      "cell_type": "code",
      "metadata": {
        "id": "wGHDVcI3dHGN"
      },
      "source": [
        "# Teste para nome do operador\n",
        "#comprasR1['Nome operador'] = comprasR1.set_index(['Código local', 'Código produto']).index.map(oper_dict.get)\n",
        "#comprasR1"
      ],
      "execution_count": null,
      "outputs": []
    },
    {
      "cell_type": "code",
      "metadata": {
        "id": "MKA2_Idb2xPD"
      },
      "source": [
        "#comprasR2a = comprasR2.replace({\"Código local\": parques})"
      ],
      "execution_count": null,
      "outputs": []
    },
    {
      "cell_type": "code",
      "metadata": {
        "id": "H3cq7VH0eW5V"
      },
      "source": [
        "#comprasR1.loc[comprasR1['Nome operador'] == 'Galp (bios)']"
      ],
      "execution_count": null,
      "outputs": []
    },
    {
      "cell_type": "markdown",
      "metadata": {
        "id": "9IbFFBAf4qIc"
      },
      "source": [
        "**Dicionários para descodificação de dados em diferentes folhas**"
      ]
    },
    {
      "cell_type": "markdown",
      "metadata": {
        "id": "_C2GTpVz4yY0"
      },
      "source": [
        "Económicos"
      ]
    },
    {
      "cell_type": "code",
      "metadata": {
        "id": "hPgscUuQ4wwf"
      },
      "source": [
        "econ_dic = {'GPX': 'Gasolinas', 'DPX': 'Gasóleo', 'JPX': 'Jet', 'TR1': 'Navios', 'TR2': 'Pipeline', 'TR3': 'Pipeline', 'TR5': 'Pipeline', 'TRN': 'Pipeline', 'TR6': 'Veículos cisterna',\\\n",
        "            'TR7': 'Comboio', 'GDP': 'Parques', 'AIX': 'Stocks', 'AFX': 'Stocks', 'CBE': 'Blending', 'PGR': 'Penalização Gasolinas', 'RRP': 'Rappel Repsol ES'}"
      ],
      "execution_count": 25,
      "outputs": []
    },
    {
      "cell_type": "markdown",
      "metadata": {
        "id": "5EeBnrfwgiW_"
      },
      "source": [
        "# **Conjugação de dados dos dois relatórios para comparação**\n",
        "\n",
        "---\n",
        "\n"
      ]
    },
    {
      "cell_type": "markdown",
      "metadata": {
        "id": "kmUUEFnYqyM4"
      },
      "source": [
        "**Parâmetros económicos**"
      ]
    },
    {
      "cell_type": "code",
      "metadata": {
        "id": "yOW1jtZUkYVd"
      },
      "source": [
        "econ_merge = pd.merge(economicosR1, economicosR2, on='Código compra', how='outer', suffixes = ('_Report 1', '_Report 2'))\n",
        "econ_mergea = econ_merge.replace({\"Código compra\": econ_dic})\n",
        "econ_mergea"
      ],
      "execution_count": null,
      "outputs": []
    },
    {
      "cell_type": "markdown",
      "metadata": {
        "id": "uENL7NGWq4JI"
      },
      "source": [
        "**Compras**"
      ]
    },
    {
      "cell_type": "code",
      "metadata": {
        "id": "oeDvMGcJm46f"
      },
      "source": [
        "compras_merge = pd.merge(comprasR1, comprasR2, on=['Código local', 'Código produto'], how='outer', suffixes = ('_Report 1', '_Report 2'))\n",
        "compras_merge"
      ],
      "execution_count": null,
      "outputs": []
    },
    {
      "cell_type": "code",
      "metadata": {
        "id": "C5VNTcimFyv9"
      },
      "source": [
        "# Usa dicionário do nome do operador para para poder mapear com código do local e produto\n",
        "compras_merge['Nome operador'] = compras_merge.set_index(['Código local', 'Código produto']).index.map(oper_dict.get)\n",
        "compras_merge"
      ],
      "execution_count": null,
      "outputs": []
    },
    {
      "cell_type": "markdown",
      "metadata": {
        "id": "XaDGdtaAgRAE"
      },
      "source": [
        "\n",
        "\n",
        "> Adiciona novas tabelas de compras com colunas para criar tabela de compras por local e família de produtos\n",
        "\n"
      ]
    },
    {
      "cell_type": "code",
      "metadata": {
        "id": "wii20CTefhUM"
      },
      "source": [
        "# Usa dicionário de locais de compra para criar um nome do local a usar na tabela de compras por local e família de produtos\n",
        "compras_merge['Local da compra'] = compras_merge.set_index(['Código local']).index.map(comp_loc.get)\n",
        "compras_merge"
      ],
      "execution_count": null,
      "outputs": []
    },
    {
      "cell_type": "code",
      "metadata": {
        "id": "0YZ1w43vgc_a"
      },
      "source": [
        "# Usa dicionário de família de produtos para criar o mesmo campo na tabela\n",
        "compras_merge['Família de produtos'] = compras_merge.set_index(['Código produto']).index.map(fam_prod.get)\n",
        "compras_merge"
      ],
      "execution_count": null,
      "outputs": []
    },
    {
      "cell_type": "code",
      "metadata": {
        "id": "u-l8djd8iCGw"
      },
      "source": [
        "#Verificação de Galp (bios) - apenas para confirmação, não necessário para criação do output\n",
        "compras_merge.loc[compras_merge['Nome operador'] == 'Galp (bios)']"
      ],
      "execution_count": null,
      "outputs": []
    },
    {
      "cell_type": "markdown",
      "metadata": {
        "id": "K4ZhK7S-7j5x"
      },
      "source": [
        "\n",
        "\n",
        "> Verificação de totais de compras R1\n",
        "\n"
      ]
    },
    {
      "cell_type": "code",
      "metadata": {
        "id": "Jn8oHy_K7Jmc"
      },
      "source": [
        "#compras_merge.loc[compras_merge['Nome operador'] == 'Galp (bios)', 'Volume\\n(m3)_Report 1'].sum()"
      ],
      "execution_count": null,
      "outputs": []
    },
    {
      "cell_type": "markdown",
      "metadata": {
        "id": "nKxtyRpE7s_B"
      },
      "source": [
        "\n",
        "> Verificação de totais de compras R2\n",
        "\n",
        "\n",
        "\n"
      ]
    },
    {
      "cell_type": "code",
      "metadata": {
        "id": "pPCKXFYN70wj"
      },
      "source": [
        "#compras_merge.loc[compras_merge['Nome operador'] == 'Galp (bios)', 'Volume\\n(m3)_Report 2'].sum()"
      ],
      "execution_count": null,
      "outputs": []
    },
    {
      "cell_type": "code",
      "metadata": {
        "id": "duHEXj47iAyU"
      },
      "source": [
        "# Verificação de totais para Portugal\n",
        "#compras_merge.loc[compras_merge['Local da compra'] == 'Portugal', 'Volume\\n(m3)_Report 1'].sum()"
      ],
      "execution_count": null,
      "outputs": []
    },
    {
      "cell_type": "code",
      "metadata": {
        "id": "GPjQ2PhIO34I"
      },
      "source": [
        "# Substitui códigos de instalações por nomes das mesmas usando o dicionário \"parques\"\n",
        "compras_mergea = compras_merge.replace({\"Código local\":parques})\n",
        "compras_mergea"
      ],
      "execution_count": null,
      "outputs": []
    },
    {
      "cell_type": "markdown",
      "metadata": {
        "id": "JOL1oMr-2Cqu"
      },
      "source": [
        "**Incorporações com descodificação das instalações**"
      ]
    },
    {
      "cell_type": "code",
      "metadata": {
        "id": "YrWaichiyIZl"
      },
      "source": [
        "#Merge das DataFrames antes de alterar códigos de instalação para nomes das mesmas\n",
        "incorp_merge = pd.merge(incorporaçõesR1, incorporaçõesR2, on = ['Location code', 'Component code'], how='outer', suffixes = ('_Report 1', '_Report 2'))\n",
        "incorp_merge.loc[incorp_merge['Location code'] == 'RB']"
      ],
      "execution_count": null,
      "outputs": []
    },
    {
      "cell_type": "code",
      "metadata": {
        "id": "YbAgYXDB4AeP"
      },
      "source": [
        "# Só no final do merge efetua a troca dos códigos de instalação pelos nomes\n",
        "incorp_mergea = incorp_merge.replace({'Location code': parques})\n",
        "incorp_mergea"
      ],
      "execution_count": null,
      "outputs": []
    },
    {
      "cell_type": "code",
      "metadata": {
        "id": "Y-qw26Hd4AqM"
      },
      "source": [
        "#incorp_mergea.plot.bar(x='Location code')"
      ],
      "execution_count": null,
      "outputs": []
    },
    {
      "cell_type": "markdown",
      "metadata": {
        "id": "rp41NYd33ZrT"
      },
      "source": [
        "**Movimentos**"
      ]
    },
    {
      "cell_type": "code",
      "metadata": {
        "id": "tDq5QpN7AFJB"
      },
      "source": [
        "#Merge das tabelas de movimentos dos dois cenários\n",
        "movimentos_merge = pd.merge(movimentosR1, movimentosR2, on = ['Unloading code', 'Product code'], how='outer', suffixes = ('_Report 1', '_Report 2'))\n",
        "movimentos_merge"
      ],
      "execution_count": null,
      "outputs": []
    },
    {
      "cell_type": "code",
      "metadata": {
        "id": "i4XERaw3iLMC"
      },
      "source": [
        "#Check aos movimentos para Barcelona Decal - apagar no final\n",
        "movimentos_merge.loc[movimentos_merge['Unloading code'] == 'EE']"
      ],
      "execution_count": null,
      "outputs": []
    },
    {
      "cell_type": "markdown",
      "metadata": {
        "id": "_g2JCzuAkSmz"
      },
      "source": [
        "Dicionário de produtos a usar nos movimentos"
      ]
    },
    {
      "cell_type": "code",
      "metadata": {
        "id": "O5rusU8akWa-"
      },
      "source": [
        "#Cria o dicionário de produtos a utilizar na tabela de movimentos, de forma a captar todos (ex.: Gasóleo A pode ser DAs e DAo)\n",
        "prod_mov = {'DAs': 'Gasóleo A', 'DAo': 'Gasóleo A', '4GO': 'Gasóleo A', 'MDi': 'Gasóleo A', 'DBs': 'Gasóleo B', 'DCs': 'Gasóleo C', 'G5s': 'Gasolina 95', '5Bf': 'Gasolina 95',\\\n",
        "            'y5z': 'Gasolina 95', 'G8s': 'Gasolina 98'}"
      ],
      "execution_count": 37,
      "outputs": []
    },
    {
      "cell_type": "code",
      "metadata": {
        "id": "UatqISxPU3jh"
      },
      "source": [
        "# Muda nome das instalações utilizando o dicionário \"parques\" e nome dos produtos usando dicionário \"prod_mov\"\n",
        "movimentos_mergea = movimentos_merge.replace({\"Loading code_Report 1\":parques, \"Loading code_Report 2\":parques, \"Unloading code\": parques, \"Product code\": prod_mov})\n",
        "movimentos_mergea"
      ],
      "execution_count": null,
      "outputs": []
    },
    {
      "cell_type": "code",
      "metadata": {
        "id": "8r046WEtJuSU"
      },
      "source": [
        "#Reordenamento de colunas na dataframe movimentos_merge\n",
        "movimentos_mergeaa = movimentos_mergea.reindex(columns = ['Unloading code', 'Product code', 'Loading code_Report 1', 'Volume\\n(m3)_Report 1', 'Loading code_Report 2', 'Volume\\n(m3)_Report 2'] )\n",
        "movimentos_mergeaa"
      ],
      "execution_count": null,
      "outputs": []
    },
    {
      "cell_type": "markdown",
      "metadata": {
        "id": "5qZ6awJuK-Cd"
      },
      "source": [
        "Criação de máscaras para cada tipo de produto"
      ]
    },
    {
      "cell_type": "code",
      "metadata": {
        "id": "KU3GaJdqLBqp"
      },
      "source": [
        "#Criação de máscara DAs\n",
        "DAs = (movimentos_mergeaa[\"Product code\"] == \"Gasóleo A\")\n",
        "\n",
        "#Criação da máscara FRp (Bios misturados em Bilbao para compensar posicionados)\n",
        "FRp = (movimentos_mergeaa[\"Product code\"] == \"FRp\")\n",
        "\n",
        "#Criação de máscara DBs\n",
        "DBs = (movimentos_mergeaa[\"Product code\"] == \"Gasóleo B\")\n",
        "\n",
        "#Criação de máscara DCs\n",
        "DCs = (movimentos_mergeaa[\"Product code\"] == \"Gasóleo C\")\n",
        "\n",
        "#Criação de máscara G5s\n",
        "G5s = (movimentos_mergeaa[\"Product code\"] == \"Gasolina 95\")\n",
        "\n",
        "#Criação de máscara G8s\n",
        "G8s = (movimentos_mergeaa[\"Product code\"] == \"Gasolina 98\")"
      ],
      "execution_count": 40,
      "outputs": []
    },
    {
      "cell_type": "code",
      "metadata": {
        "id": "ToSxfb2pLp_M"
      },
      "source": [
        "#Aplicação das máscaras na geração de dataframes de movimentos por cada produto de interesse\n",
        "mov_DAs = movimentos_mergeaa[DAs]\n",
        "mov_FRp = movimentos_mergeaa[FRp]\n",
        "mov_DBs = movimentos_mergeaa[DBs]\n",
        "mov_DCs = movimentos_mergeaa[DCs]\n",
        "mov_G5s = movimentos_mergeaa[G5s]\n",
        "mov_G8s = movimentos_mergeaa[G8s]"
      ],
      "execution_count": 41,
      "outputs": []
    },
    {
      "cell_type": "code",
      "metadata": {
        "id": "pExTK5nmhFDp"
      },
      "source": [
        "mov_DAs    #Apenas para visualizar e confirmar resultado"
      ],
      "execution_count": null,
      "outputs": []
    },
    {
      "cell_type": "markdown",
      "metadata": {
        "id": "LPbyoK-S46XT"
      },
      "source": [
        "**Merge da DataFrame das instalações a avaliar com cada uma das DataFrames de movimentos**"
      ]
    },
    {
      "cell_type": "code",
      "metadata": {
        "id": "1_WjDaBt45JC"
      },
      "source": [
        "DAs_final = pd.merge(inst,mov_DAs, on='Unloading code', how='left')\n",
        "DBs_final = pd.merge(inst,mov_DBs, on='Unloading code', how='left')\n",
        "DCs_final = pd.merge(inst,mov_DCs, on='Unloading code', how='left')\n",
        "G5s_final = pd.merge(inst,mov_G5s, on='Unloading code', how='left')\n",
        "G8s_final = pd.merge(inst,mov_G8s, on='Unloading code', how='left')\n",
        "DAs_final"
      ],
      "execution_count": null,
      "outputs": []
    },
    {
      "cell_type": "code",
      "metadata": {
        "colab": {
          "base_uri": "https://localhost:8080/"
        },
        "id": "7ETKDiGvQQqS",
        "outputId": "12387ef6-dc8d-475f-b501-67312ccf440a"
      },
      "source": [
        "#Soma dos bios misturados em Bilbao para compensar posicionados\n",
        "mov_FRp[\"Volume\\n(m3)_Report 2\"].sum()"
      ],
      "execution_count": 45,
      "outputs": [
        {
          "output_type": "execute_result",
          "data": {
            "text/plain": [
              "1939.20336"
            ]
          },
          "metadata": {},
          "execution_count": 45
        }
      ]
    },
    {
      "cell_type": "code",
      "metadata": {
        "id": "L5ShVMCHQwrb"
      },
      "source": [
        "#Soma de DAS com FRp para dar volumes corretos nos posicionados\n",
        "#mov_DAstot = mov_DAs+mov_FRp\n",
        "#mov_DAstot"
      ],
      "execution_count": null,
      "outputs": []
    },
    {
      "cell_type": "markdown",
      "metadata": {
        "id": "MNz5pILOqD6G"
      },
      "source": [
        "Tabelas de movimentos para cada produto com identificação das diferenças"
      ]
    },
    {
      "cell_type": "code",
      "metadata": {
        "id": "Lg9V5E3Zra9h"
      },
      "source": [
        "#Primeiro identificam-se os elementos do vetor DAs com NaN\n",
        "DAs_final['NaN R1'] = np.where((pd.isna(DAs_final['Loading code_Report 1']) == True),int(1),0)\n",
        "DAs_final['NaN R2'] = np.where((pd.isna(DAs_final['Loading code_Report 2']) == True),int(1),0)\n",
        "#Cria-se campo de teste de NaN, em que se ambos forem NaN (1), então campo é 1 (a mesma origem nos 2 relatórios)\n",
        "DAs_final['NaN conj'] = np.where(DAs_final['NaN R1'] + DAs_final['NaN R2'] > 1, 1, 0)"
      ],
      "execution_count": 46,
      "outputs": []
    },
    {
      "cell_type": "code",
      "metadata": {
        "id": "FKNmHh_OtWae"
      },
      "source": [
        "#Primeiro identificam-se os elementos do vetor DBs com NaN\n",
        "DBs_final['NaN R1'] = np.where((pd.isna(DBs_final['Loading code_Report 1']) == True),int(1),0)\n",
        "DBs_final['NaN R2'] = np.where((pd.isna(DBs_final['Loading code_Report 2']) == True),int(1),0)\n",
        "#Cria-se campo de teste de NaN, em que se ambos forem NaN (1), então campo é 1 (a mesma origem nos 2 relatórios)\n",
        "DBs_final['NaN conj'] = np.where(DBs_final['NaN R1'] + DBs_final['NaN R2'] > 1, 1, 0)"
      ],
      "execution_count": 47,
      "outputs": []
    },
    {
      "cell_type": "code",
      "metadata": {
        "id": "4ue4vNES1evS"
      },
      "source": [
        "#Primeiro identificam-se os elementos do vetor DCs com NaN\n",
        "DCs_final['NaN R1'] = np.where((pd.isna(DCs_final['Loading code_Report 1']) == True),int(1),0)\n",
        "DCs_final['NaN R2'] = np.where((pd.isna(DCs_final['Loading code_Report 2']) == True),int(1),0)\n",
        "#Cria-se campo de teste de NaN, em que se ambos forem NaN (1), então campo é 1 (a mesma origem nos 2 relatórios)\n",
        "DCs_final['NaN conj'] = np.where(DCs_final['NaN R1'] + DCs_final['NaN R2'] > 1, 1, 0)"
      ],
      "execution_count": 48,
      "outputs": []
    },
    {
      "cell_type": "code",
      "metadata": {
        "id": "WC05kcFn1w64"
      },
      "source": [
        "#Primeiro identificam-se os elementos do vetor DCs com NaN\n",
        "G5s_final['NaN R1'] = np.where((pd.isna(G5s_final['Loading code_Report 1']) == True),int(1),0)\n",
        "G5s_final['NaN R2'] = np.where((pd.isna(G5s_final['Loading code_Report 2']) == True),int(1),0)\n",
        "#Cria-se campo de teste de NaN, em que se ambos forem NaN (1), então campo é 1 (a mesma origem nos 2 relatórios)\n",
        "G5s_final['NaN conj'] = np.where(G5s_final['NaN R1'] + G5s_final['NaN R2'] > 1, 1, 0)"
      ],
      "execution_count": 49,
      "outputs": []
    },
    {
      "cell_type": "code",
      "metadata": {
        "id": "gqsxxGA51_CN"
      },
      "source": [
        "#Primeiro identificam-se os elementos do vetor DCs com NaN\n",
        "G8s_final['NaN R1'] = np.where((pd.isna(G8s_final['Loading code_Report 1']) == True),int(1),0)\n",
        "G8s_final['NaN R2'] = np.where((pd.isna(G8s_final['Loading code_Report 2']) == True),int(1),0)\n",
        "#Cria-se campo de teste de NaN, em que se ambos forem NaN (1), então campo é 1 (a mesma origem nos 2 relatórios)\n",
        "G8s_final['NaN conj'] = np.where(G8s_final['NaN R1'] + G8s_final['NaN R2'] > 1, 1, 0)"
      ],
      "execution_count": 50,
      "outputs": []
    },
    {
      "cell_type": "code",
      "metadata": {
        "id": "yXJdUmHRNVX_",
        "colab": {
          "base_uri": "https://localhost:8080/"
        },
        "outputId": "3528449d-846c-4716-d995-50fc3acbb415"
      },
      "source": [
        "#Identificação de diferenças entre os dois relatórios - 1 significa a mesma origem; 0 significa origens diferentes\n",
        "DAs_final['Variação de origem'] = np.where(DAs_final['Loading code_Report 1'] == DAs_final['Loading code_Report 2'],1,0) + DAs_final['NaN conj']\n",
        "mov_FRp['Variação de origem'] = np.where(mov_FRp['Loading code_Report 1'] == mov_FRp['Loading code_Report 2'],1,0)\n",
        "DBs_final['Variação de origem'] = np.where(DBs_final['Loading code_Report 1'] == DBs_final['Loading code_Report 2'],1,0) + DBs_final['NaN conj']\n",
        "DCs_final['Variação de origem'] = np.where(DCs_final['Loading code_Report 1'] == DCs_final['Loading code_Report 2'],1,0) + DCs_final['NaN conj']\n",
        "G5s_final['Variação de origem'] = np.where(G5s_final['Loading code_Report 1'] == G5s_final['Loading code_Report 2'],1,0) + G5s_final['NaN conj']\n",
        "G8s_final['Variação de origem'] = np.where(G8s_final['Loading code_Report 1'] == G8s_final['Loading code_Report 2'],1,0) + G8s_final['NaN conj']"
      ],
      "execution_count": 51,
      "outputs": [
        {
          "output_type": "stream",
          "name": "stderr",
          "text": [
            "/usr/local/lib/python3.7/dist-packages/ipykernel_launcher.py:3: SettingWithCopyWarning: \n",
            "A value is trying to be set on a copy of a slice from a DataFrame.\n",
            "Try using .loc[row_indexer,col_indexer] = value instead\n",
            "\n",
            "See the caveats in the documentation: https://pandas.pydata.org/pandas-docs/stable/user_guide/indexing.html#returning-a-view-versus-a-copy\n",
            "  This is separate from the ipykernel package so we can avoid doing imports until\n"
          ]
        }
      ]
    },
    {
      "cell_type": "markdown",
      "metadata": {
        "id": "ket7_yo7sRrp"
      },
      "source": [
        "**TEPS**"
      ]
    },
    {
      "cell_type": "code",
      "metadata": {
        "id": "AdPj7kL2sTTM"
      },
      "source": [
        "#Conjugação das tabelas dos dois relatórios\n",
        "teps_merge = pd.merge(tepsR1, tepsR2, on = 'Operação', how='outer', suffixes=('_Report 1', '_Report 2'))\n",
        "teps_merge"
      ],
      "execution_count": null,
      "outputs": []
    },
    {
      "cell_type": "markdown",
      "metadata": {
        "id": "Aff_6kMYqAut"
      },
      "source": [
        "\n",
        "\n",
        ">Descodificação dos códigos de títulos\n",
        "\n"
      ]
    },
    {
      "cell_type": "code",
      "metadata": {
        "id": "1gzp547gqGOm"
      },
      "source": [
        "# Dicionário de títulos - não está a ser usado\n",
        "tit_dic = {'MTE': 'TEPS Minerais', 'MCE': 'TEPS Compensação Min. - Operadores', 'BTE': 'TEPS Bios', 'BCE': 'TEPS Compensação Bio. - Operadores',\\\n",
        "           'DTE': 'TEPS Duplos', 'DCE': 'TEPS Compensação Dup. - Operadores', 'OTE': 'TEPS - Palma RED II', 'OCE': 'TEPS Compensação Palma - Operadores',\\\n",
        "           'FTE': 'TEPS - 1a Geração RED II', 'FCE': 'TEPS Compensação 1aG - Operadores', 'RTE': 'TEPS - MPR REDII', 'RCE': 'TEPS Compensação MPR - Operadores',\\\n",
        "           'CEE': 'TEPS Bolsa', 'CCE': 'TEPS Compensação'}"
      ],
      "execution_count": 53,
      "outputs": []
    },
    {
      "cell_type": "code",
      "metadata": {
        "id": "prfNVe0Lrusd"
      },
      "source": [
        "# Não está a ser usado\n",
        "# teps_mergea = teps_merge.replace({\"Operação\":tit_dic})\n",
        "# teps_mergea"
      ],
      "execution_count": 54,
      "outputs": []
    },
    {
      "cell_type": "markdown",
      "metadata": {
        "id": "OkHa7CA_wkGZ"
      },
      "source": [
        "# **Exportação dos dados trabalhados para Excel (a ser importado para PowerBI)**"
      ]
    },
    {
      "cell_type": "code",
      "metadata": {
        "id": "crEZQaxdxdjy"
      },
      "source": [
        "with pd.ExcelWriter(output_path + '/' + report_name) as writer:\n",
        "  econ_mergea.to_excel(writer, sheet_name='Económicos')\n",
        "  compras_mergea.to_excel(writer, sheet_name='Compras')\n",
        "  incorp_mergea.to_excel(writer, sheet_name='Incorporações')\n",
        "  teps_merge.to_excel(writer, sheet_name='TEPS')\n",
        "  DAs_final.to_excel(writer, sheet_name='DAs')\n",
        "  mov_FRp.to_excel(writer, sheet_name= 'FRp')\n",
        "  DBs_final.to_excel(writer, sheet_name='DBs')\n",
        "  DCs_final.to_excel(writer, sheet_name='DCs')\n",
        "  G5s_final.to_excel(writer, sheet_name='G5s')\n",
        "  G8s_final.to_excel(writer, sheet_name='G8s')"
      ],
      "execution_count": 55,
      "outputs": []
    },
    {
      "cell_type": "code",
      "metadata": {
        "id": "HZFKL8OBRm5_"
      },
      "source": [
        ""
      ],
      "execution_count": null,
      "outputs": []
    }
  ]
}